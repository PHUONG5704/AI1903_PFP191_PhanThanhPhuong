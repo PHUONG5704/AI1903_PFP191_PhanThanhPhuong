{
 "cells": [
  {
   "cell_type": "code",
   "execution_count": null,
   "id": "ab711dcf-aaa7-4298-bb02-209b7efe1b68",
   "metadata": {},
   "outputs": [],
   "source": [
    "#Question 1\n"
   ]
  },
  {
   "cell_type": "code",
   "execution_count": 2,
   "id": "0025fd27-611d-46ab-9995-6be8de34a1d4",
   "metadata": {
    "tags": []
   },
   "outputs": [
    {
     "name": "stdin",
     "output_type": "stream",
     "text": [
      "Enter an integer number greater than 5:  8\n"
     ]
    },
    {
     "name": "stdout",
     "output_type": "stream",
     "text": [
      "The value of S is 6.17.\n"
     ]
    }
   ],
   "source": [
    "#1\n",
    "\n",
    "while True:\n",
    "    n = int(input(\"Enter an integer number greater than 5: \"))\n",
    "    if n > 5:\n",
    "        break\n",
    "    else:\n",
    "        print(\"Invalid input. Please try again.\")\n",
    "\n",
    "S = 0\n",
    "for i in range(1, n+1):\n",
    "    S += i / (i + 1)\n",
    "\n",
    "print(f\"The value of S is {S:.2f}.\")\n",
    "\n"
   ]
  },
  {
   "cell_type": "code",
   "execution_count": 3,
   "id": "506b83b7-da94-4e5c-8ea1-57ad484e056b",
   "metadata": {
    "tags": []
   },
   "outputs": [
    {
     "name": "stdin",
     "output_type": "stream",
     "text": [
      "Enter a positive integer:  9\n"
     ]
    },
    {
     "name": "stdout",
     "output_type": "stream",
     "text": [
      "The value of S1 is 45.\n"
     ]
    }
   ],
   "source": [
    "#2\n",
    "\n",
    "n = int(input(\"Enter a positive integer: \"))\n",
    "S1 = sum(range(1, n+1))\n",
    "print(f\"The value of S1 is {S1}.\")\n",
    "\n",
    "\n",
    "\n"
   ]
  },
  {
   "cell_type": "code",
   "execution_count": 4,
   "id": "b66ab9ec-585d-480c-a5aa-d3d954e97b0c",
   "metadata": {
    "tags": []
   },
   "outputs": [
    {
     "name": "stdin",
     "output_type": "stream",
     "text": [
      "Enter a non-negative integer:  4\n"
     ]
    },
    {
     "name": "stdout",
     "output_type": "stream",
     "text": [
      "The value of S2 is 24.\n"
     ]
    }
   ],
   "source": [
    "#3\n",
    "\n",
    "def factorial(n):\n",
    "    if n == 0:\n",
    "        return 1\n",
    "    else:\n",
    "        return n * factorial(n - 1)\n",
    "\n",
    "n = int(input(\"Enter a non-negative integer: \"))\n",
    "S2 = factorial(n)\n",
    "print(f\"The value of S2 is {S2}.\")\n"
   ]
  },
  {
   "cell_type": "code",
   "execution_count": 5,
   "id": "9542b5ab-2037-408e-881e-883e8aab831b",
   "metadata": {
    "tags": []
   },
   "outputs": [
    {
     "name": "stdin",
     "output_type": "stream",
     "text": [
      "Enter a positive integer:  7\n"
     ]
    },
    {
     "name": "stdout",
     "output_type": "stream",
     "text": [
      "The value of S3 is 2.59.\n"
     ]
    }
   ],
   "source": [
    "#4\n",
    "\n",
    "n = int(input(\"Enter a positive integer: \"))\n",
    "S3 = sum(1/i for i in range(1, n+1))\n",
    "print(f\"The value of S3 is {S3:.2f}.\")\n"
   ]
  },
  {
   "cell_type": "code",
   "execution_count": 6,
   "id": "11c0e2c6-e8e4-4e32-88e5-df38f5a90ac2",
   "metadata": {
    "tags": []
   },
   "outputs": [
    {
     "name": "stdin",
     "output_type": "stream",
     "text": [
      "Enter a positive integer greater than 5:  7\n"
     ]
    },
    {
     "name": "stdout",
     "output_type": "stream",
     "text": [
      "7 is a prime number.\n"
     ]
    }
   ],
   "source": [
    "#5\n",
    "\n",
    "def is_prime(n):\n",
    "    if n <= 1:\n",
    "        return False\n",
    "    for i in range(2, int(n ** 0.5) + 1):\n",
    "        if n % i == 0:\n",
    "            return False\n",
    "    return True\n",
    "\n",
    "while True:\n",
    "    n = int(input(\"Enter a positive integer greater than 5: \"))\n",
    "    if n > 5:\n",
    "        break\n",
    "    else:\n",
    "        print(\"Invalid input. Please try again.\")\n",
    "\n",
    "if is_prime(n):\n",
    "    print(f\"{n} is a prime number.\")\n",
    "else:\n",
    "    print(f\"{n} is not a prime number.\")\n"
   ]
  },
  {
   "cell_type": "code",
   "execution_count": null,
   "id": "40d906c6-545b-43b9-9756-7fb5c0a011e5",
   "metadata": {},
   "outputs": [],
   "source": [
    "#Question 2\n"
   ]
  },
  {
   "cell_type": "code",
   "execution_count": 8,
   "id": "3194f41d-39ef-4fc5-b52e-e4daf9eb6fb4",
   "metadata": {
    "tags": []
   },
   "outputs": [
    {
     "name": "stdin",
     "output_type": "stream",
     "text": [
      "Enter the first integer number:  2\n",
      "Enter the second integer number:  6\n"
     ]
    },
    {
     "name": "stdout",
     "output_type": "stream",
     "text": [
      "The common prime divisors of 2 and 6 are: [2]\n"
     ]
    }
   ],
   "source": [
    "#1 \n",
    "\n",
    "def prime_divisors(n):\n",
    "    divisors = []\n",
    "    i = 2\n",
    "    while i * i <= n:\n",
    "        if n % i:\n",
    "            i += 1\n",
    "        else:\n",
    "            n //= i\n",
    "            divisors.append(i)\n",
    "    if n > 1:\n",
    "        divisors.append(n)\n",
    "    return divisors\n",
    "\n",
    "m = int(input(\"Enter the first integer number: \"))\n",
    "n = int(input(\"Enter the second integer number: \"))\n",
    "\n",
    "common_divisors = set(prime_divisors(m)) & set(prime_divisors(n))\n",
    "\n",
    "if len(common_divisors) > 0:\n",
    "    print(f\"The common prime divisors of {m} and {n} are: {sorted(common_divisors)}\")\n",
    "else:\n",
    "    print(f\"{m} and {n} have no common prime divisors.\")\n"
   ]
  },
  {
   "cell_type": "code",
   "execution_count": 9,
   "id": "420b32c4-f692-4ba3-ae0f-d6cd43f7eac2",
   "metadata": {
    "tags": []
   },
   "outputs": [
    {
     "name": "stdin",
     "output_type": "stream",
     "text": [
      "Enter the first integer number:  3\n",
      "Enter the second integer number:  9\n"
     ]
    },
    {
     "name": "stdout",
     "output_type": "stream",
     "text": [
      "The greatest common divisor of 3 and 9 is: 3\n"
     ]
    }
   ],
   "source": [
    "#2 \n",
    "\n",
    "def gcd(a, b):\n",
    "    if b == 0:\n",
    "        return a\n",
    "    else:\n",
    "        return gcd(b, a % b)\n",
    "\n",
    "m = int(input(\"Enter the first integer number: \"))\n",
    "n = int(input(\"Enter the second integer number: \"))\n",
    "\n",
    "gcd_val = gcd(m, n)\n",
    "\n",
    "print(f\"The greatest common divisor of {m} and {n} is: {gcd_val}\")\n"
   ]
  },
  {
   "cell_type": "code",
   "execution_count": 11,
   "id": "875c15e3-449b-4137-8cbe-806b91c0f738",
   "metadata": {
    "tags": []
   },
   "outputs": [
    {
     "name": "stdin",
     "output_type": "stream",
     "text": [
      "Enter the first integer number:  2\n",
      "Enter the second integer number:  4\n"
     ]
    },
    {
     "name": "stdout",
     "output_type": "stream",
     "text": [
      "The least common multiple of 2 and 4 is: 4\n"
     ]
    }
   ],
   "source": [
    "#3\n",
    "\n",
    "def gcd(a, b):\n",
    "    if b == 0:\n",
    "        return a\n",
    "    else:\n",
    "        return gcd(b, a % b)\n",
    "\n",
    "def lcm(a, b):\n",
    "    return (a * b) // gcd(a, b)\n",
    "\n",
    "m = int(input(\"Enter the first integer number: \"))\n",
    "n = int(input(\"Enter the second integer number: \"))\n",
    "\n",
    "lcm_val = lcm(m, n)\n",
    "\n",
    "print(f\"The least common multiple of {m} and {n} is: {lcm_val}\")\n"
   ]
  },
  {
   "cell_type": "code",
   "execution_count": null,
   "id": "fb003896-8eff-4c35-8347-1b7133090f4b",
   "metadata": {},
   "outputs": [],
   "source": [
    "#Question 3\n"
   ]
  },
  {
   "cell_type": "code",
   "execution_count": 12,
   "id": "0275d590-6d8f-4957-8d5a-beeae916961f",
   "metadata": {
    "tags": []
   },
   "outputs": [
    {
     "name": "stdin",
     "output_type": "stream",
     "text": [
      "Enter a positive integer:  2\n"
     ]
    },
    {
     "name": "stdout",
     "output_type": "stream",
     "text": [
      "Binary format of 2 is 10.\n",
      "The sum of digits of 2 is 2.\n",
      "The reverse of 2 is 2.\n"
     ]
    }
   ],
   "source": [
    "def reverse_number(n):\n",
    "    return int(str(n)[::-1])\n",
    "\n",
    "while True:\n",
    "    n = input(\"Enter a positive integer: \")\n",
    "    if n.isdigit() and int(n) > 0:\n",
    "        break\n",
    "    else:\n",
    "        print(\"Invalid input. Please try again.\")\n",
    "\n",
    "n = int(n)\n",
    "binary_n = f\"{n:b}\"\n",
    "sum_of_digits = sum(int(digit) for digit in str(n))\n",
    "m = reverse_number(n)\n",
    "\n",
    "print(f\"Binary format of {n} is {binary_n}.\")\n",
    "print(f\"The sum of digits of {n} is {sum_of_digits}.\")\n",
    "print(f\"The reverse of {n} is {m}.\")\n"
   ]
  },
  {
   "cell_type": "code",
   "execution_count": null,
   "id": "70c526be-6a6d-4267-aca2-836716993bb6",
   "metadata": {},
   "outputs": [],
   "source": [
    "#Question 4\n"
   ]
  },
  {
   "cell_type": "code",
   "execution_count": null,
   "id": "6f80aff0-1ed2-4722-97f8-90b9cdd50ef2",
   "metadata": {},
   "outputs": [],
   "source": []
  }
 ],
 "metadata": {
  "kernelspec": {
   "display_name": "Python 3 (ipykernel)",
   "language": "python",
   "name": "python3"
  },
  "language_info": {
   "codemirror_mode": {
    "name": "ipython",
    "version": 3
   },
   "file_extension": ".py",
   "mimetype": "text/x-python",
   "name": "python",
   "nbconvert_exporter": "python",
   "pygments_lexer": "ipython3",
   "version": "3.11.5"
  }
 },
 "nbformat": 4,
 "nbformat_minor": 5
}
