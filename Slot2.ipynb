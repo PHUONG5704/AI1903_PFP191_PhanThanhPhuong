{
 "cells": [
  {
   "cell_type": "code",
   "execution_count": null,
   "id": "730571df-900e-48d5-8ff7-f93ccb51ce47",
   "metadata": {},
   "outputs": [],
   "source": [
    "#Problem 1\n"
   ]
  },
  {
   "cell_type": "code",
   "execution_count": null,
   "id": "e4a1fb68-8bc2-40fa-9c06-9be819d47f79",
   "metadata": {},
   "outputs": [],
   "source": [
    "# Nhập các giá trị của mảng\n",
    "arr = list(map(int, input(\"Nhập các giá trị của mảng: \").split()))\n",
    "\n",
    "# Tính giá trị trung bình của mảng\n",
    "avg = sum(arr) / len(arr)\n",
    "print(\"Giá trị trung bình của mảng là\",avg)\n",
    "\n",
    "# Tìm vị trí của phần tử có giá trị gần giá trị trung bình nhất của mảng\n",
    "min_diff = float('inf')\n",
    "min_index = -1\n",
    "for i in range(len(arr)):\n",
    "    diff = abs(arr[i] - avg)\n",
    "    if diff < min_diff:\n",
    "        min_diff = diff\n",
    "        min_index = i\n",
    "\n",
    "# Hiển thị kết quả\n",
    "print(f\"Vị trí của phần tử có giá trị gần giá trị trung bình nhất của mảng là {min_index}.\")\n"
   ]
  },
  {
   "cell_type": "code",
   "execution_count": null,
   "id": "a0495fd8-72f2-41cd-a2f8-191a8c8da92d",
   "metadata": {},
   "outputs": [],
   "source": [
    "#Problem 2 \n"
   ]
  },
  {
   "cell_type": "code",
   "execution_count": null,
   "id": "e04f3fd5-e704-4e89-92fe-895f46a184ed",
   "metadata": {},
   "outputs": [],
   "source": [
    "# Nhập điểm môn học theo hệ thập phân\n",
    "diem = float(input(\"Nhập điểm môn học theo hệ thập phân: \"))\n",
    "\n",
    "# In ra điểm tương ứng theo hệ chữ cái\n",
    "if diem >= 9:\n",
    "    print(\"Điểm của bạn là A+.\")\n",
    "elif diem >= 8:\n",
    "    print(\"Điểm của bạn là A.\")\n",
    "elif diem >= 7:\n",
    "    print(\"Điểm của bạn là B.\")\n",
    "elif diem >= 6:\n",
    "    print(\"Điểm của bạn là C.\")\n",
    "elif diem >= 5:\n",
    "    print(\"Điểm của bạn là D.\")\n",
    "else:\n",
    "    print(\"Điểm của bạn là F.\")\n",
    "\n",
    "# In ra điểm tương ứng theo hệ 4\n",
    "if diem >= 8.5:\n",
    "    print(\"Điểm của bạn là 4.0.\")\n",
    "elif diem >= 8:\n",
    "    print(\"Điểm của bạn là 3.7.\")\n",
    "elif diem >= 7:\n",
    "    print(\"Điểm của bạn là 3.0.\")\n",
    "elif diem >= 6:\n",
    "    print(\"Điểm của bạn là 2.0.\")\n",
    "elif diem >= 5:\n",
    "    print(\"Điểm của bạn là 1.0.\")\n",
    "else:\n",
    "    print(\"Điểm của bạn là 0.0.\")\n",
    "\n"
   ]
  },
  {
   "cell_type": "code",
   "execution_count": null,
   "id": "e1473491-3fa5-4849-a3fe-adda59b6198e",
   "metadata": {},
   "outputs": [],
   "source": [
    "#Problem 3\n"
   ]
  },
  {
   "cell_type": "code",
   "execution_count": null,
   "id": "56f178de-31e8-495c-a571-f6457e1f7ee0",
   "metadata": {
    "tags": []
   },
   "outputs": [],
   "source": [
    "# Nhập các giá trị của mảng\n",
    "arr = list(map(int, input(\"Nhập các giá trị của mảng: \").split()))\n",
    "\n",
    "# Tìm các số khác nhau trong mảng\n",
    "unique_nums = set(arr)\n",
    "\n",
    "# Hiển thị các số khác nhau trong mảng\n",
    "print(\"Các số khác nhau trong mảng là:\")\n",
    "for num in unique_nums:\n",
    "    print(num)\n"
   ]
  },
  {
   "cell_type": "code",
   "execution_count": null,
   "id": "cdd30d84-d4a6-4c0a-94a7-634eaf8704ad",
   "metadata": {},
   "outputs": [],
   "source": []
  }
 ],
 "metadata": {
  "kernelspec": {
   "display_name": "Python 3 (ipykernel)",
   "language": "python",
   "name": "python3"
  },
  "language_info": {
   "codemirror_mode": {
    "name": "ipython",
    "version": 3
   },
   "file_extension": ".py",
   "mimetype": "text/x-python",
   "name": "python",
   "nbconvert_exporter": "python",
   "pygments_lexer": "ipython3",
   "version": "3.11.5"
  }
 },
 "nbformat": 4,
 "nbformat_minor": 5
}
