{
 "cells": [
  {
   "cell_type": "code",
   "execution_count": null,
   "id": "a2723d2c-badb-472c-8dc7-ab78b66249e2",
   "metadata": {},
   "outputs": [],
   "source": [
    "#Question 1\n"
   ]
  },
  {
   "cell_type": "code",
   "execution_count": 1,
   "id": "4541a535-49fa-4c27-a977-30c7ae06d85c",
   "metadata": {
    "tags": []
   },
   "outputs": [
    {
     "name": "stdout",
     "output_type": "stream",
     "text": [
      "The sum is 15, the average is 3.00, the maximum is 5, and the minimum is 1.\n"
     ]
    }
   ],
   "source": [
    "def my_function(*args):\n",
    "    sum_val = sum(args)\n",
    "    avg_val = sum_val / len(args)\n",
    "    max_val = max(args)\n",
    "    min_val = min(args)\n",
    "    return sum_val, avg_val, max_val, min_val\n",
    "\n",
    "result = my_function(1, 2, 3, 4, 5)\n",
    "print(f\"The sum is {result[0]}, the average is {result[1]:.2f}, the maximum is {result[2]}, and the minimum is {result[3]}.\")\n",
    "\n",
    "\n"
   ]
  },
  {
   "cell_type": "code",
   "execution_count": null,
   "id": "b3d5a429-53ba-42e2-b650-a2766d9a1440",
   "metadata": {},
   "outputs": [],
   "source": [
    "#Question 2\n"
   ]
  },
  {
   "cell_type": "code",
   "execution_count": 3,
   "id": "44447dc9-7605-48ae-9354-286ae894fff1",
   "metadata": {
    "tags": []
   },
   "outputs": [
    {
     "name": "stdin",
     "output_type": "stream",
     "text": [
      "Enter the value of m:  1\n",
      "Enter the value of n (optional):  2\n"
     ]
    },
    {
     "name": "stdout",
     "output_type": "stream",
     "text": [
      "1\n",
      "2\n"
     ]
    },
    {
     "name": "stdin",
     "output_type": "stream",
     "text": [
      "Enter the value of m:  3\n",
      "Enter the value of n:  2\n"
     ]
    },
    {
     "name": "stdout",
     "output_type": "stream",
     "text": [
      "The result is 10.\n"
     ]
    }
   ],
   "source": [
    "#1\n",
    "\n",
    "def my_function(m, n=10):\n",
    "    for i in range(1, n+1):\n",
    "        print(m * i)\n",
    "\n",
    "m = int(input(\"Enter the value of m: \"))\n",
    "n = int(input(\"Enter the value of n (optional): \"))\n",
    "\n",
    "if n:\n",
    "    my_function(m, n)\n",
    "else:\n",
    "    my_function(m)\n",
    "    \n",
    "#2\n",
    "\n",
    "def outer_function(a, b):\n",
    "    def inner_function():\n",
    "        return a + b\n",
    "    return inner_function() + 5\n",
    "\n",
    "m = int(input(\"Enter the value of m: \"))\n",
    "n = int(input(\"Enter the value of n: \"))\n",
    "\n",
    "result = outer_function(m, n)\n",
    "\n",
    "print(f\"The result is {result}.\")\n",
    "\n",
    "\n"
   ]
  },
  {
   "cell_type": "code",
   "execution_count": null,
   "id": "9ac623f9-465b-4508-8e97-98f80a3d12ee",
   "metadata": {},
   "outputs": [],
   "source": [
    "#Question 3\n"
   ]
  },
  {
   "cell_type": "code",
   "execution_count": null,
   "id": "a09b2fb7-a581-4dee-8455-3e3aaa342c6e",
   "metadata": {},
   "outputs": [],
   "source": [
    "#1\n",
    "\n",
    "def recursive_sum(n):\n",
    "    if n == 0:\n",
    "        return 0\n",
    "    else:\n",
    "        return n + recursive_sum(n - 1)\n",
    "\n",
    "result = recursive_sum(10)\n",
    "\n",
    "print(f\"The sum of numbers from 0 to 10 is {result}.\")\n",
    "\n",
    "#2\n",
    "\n",
    "\n"
   ]
  }
 ],
 "metadata": {
  "kernelspec": {
   "display_name": "Python 3 (ipykernel)",
   "language": "python",
   "name": "python3"
  },
  "language_info": {
   "codemirror_mode": {
    "name": "ipython",
    "version": 3
   },
   "file_extension": ".py",
   "mimetype": "text/x-python",
   "name": "python",
   "nbconvert_exporter": "python",
   "pygments_lexer": "ipython3",
   "version": "3.11.5"
  }
 },
 "nbformat": 4,
 "nbformat_minor": 5
}
