{
 "cells": [
  {
   "cell_type": "code",
   "execution_count": null,
   "id": "962d19f6-9e58-42ce-8728-b159497d6f01",
   "metadata": {},
   "outputs": [],
   "source": [
    "#Question 1\n"
   ]
  },
  {
   "cell_type": "code",
   "execution_count": 1,
   "id": "c4f355c4-83f3-49a0-a0f6-68c516782d75",
   "metadata": {
    "tags": []
   },
   "outputs": [
    {
     "name": "stdout",
     "output_type": "stream",
     "text": [
      "1\n",
      "12\n",
      "123\n",
      "1234\n",
      "12345\n"
     ]
    }
   ],
   "source": [
    "#1\n",
    "\n",
    "for i in range(1, 6):\n",
    "    for j in range(1, i + 1):\n",
    "        print(j, end=\"\")\n",
    "    print()\n"
   ]
  },
  {
   "cell_type": "code",
   "execution_count": 3,
   "id": "9123c758-4ba6-47bd-81e9-37d2717c09e5",
   "metadata": {
    "tags": []
   },
   "outputs": [
    {
     "name": "stdin",
     "output_type": "stream",
     "text": [
      "Enter a number:  1\n"
     ]
    },
    {
     "name": "stdout",
     "output_type": "stream",
     "text": [
      "1\n",
      "The sum of all numbers from the previous question to 1 is **1**.\n"
     ]
    }
   ],
   "source": [
    "#2\n",
    "\n",
    "number = int(input(\"Enter a number: \"))\n",
    "sum = 0\n",
    "for i in range(1, number + 1):\n",
    "    for j in range(1, i + 1):\n",
    "        print(j, end=\"\")\n",
    "    print()\n",
    "    sum += i\n",
    "print(f\"The sum of all numbers from the previous question to {number} is **{sum}**.\")\n"
   ]
  },
  {
   "cell_type": "code",
   "execution_count": null,
   "id": "92e91d2e-5268-491d-a0dd-3473990e9f06",
   "metadata": {},
   "outputs": [],
   "source": [
    "#Question 2\n"
   ]
  },
  {
   "cell_type": "code",
   "execution_count": 4,
   "id": "3262ed13-2a18-4d03-9e2d-c90f5395a770",
   "metadata": {
    "collapsed": true,
    "jupyter": {
     "outputs_hidden": true
    },
    "tags": []
   },
   "outputs": [
    {
     "name": "stdout",
     "output_type": "stream",
     "text": [
      "10\n",
      "20\n",
      "30\n",
      "40\n",
      "50\n",
      "60\n",
      "70\n",
      "80\n",
      "90\n",
      "100\n"
     ]
    }
   ],
   "source": [
    "#1\n",
    "\n",
    "numbers = [10, 20, 30, 40, 50, 60, 70, 80, 90, 100, 200, 300, 400, 500, 600]\n",
    "for number in numbers:\n",
    "    if number % 5 == 0 and number <= 500:\n",
    "        if number > 150:\n",
    "            continue\n",
    "        print(number)\n",
    "    else:\n",
    "        continue\n",
    "\n"
   ]
  },
  {
   "cell_type": "code",
   "execution_count": 5,
   "id": "6ac91340-77b8-419b-8521-120751e9d878",
   "metadata": {
    "tags": []
   },
   "outputs": [
    {
     "name": "stdin",
     "output_type": "stream",
     "text": [
      "Enter a number:  123456789\n"
     ]
    },
    {
     "name": "stdout",
     "output_type": "stream",
     "text": [
      "The total number of digits in the number is **9**.\n"
     ]
    }
   ],
   "source": [
    "#2\n",
    "\n",
    "number = int(input(\"Enter a number: \"))\n",
    "count = 0\n",
    "while number != 0:\n",
    "    number //= 10\n",
    "    count += 1\n",
    "print(f\"The total number of digits in the number is **{count}**.\")\n"
   ]
  },
  {
   "cell_type": "code",
   "execution_count": 6,
   "id": "93ad1e05-e02e-496d-9538-259514c5cab4",
   "metadata": {
    "tags": []
   },
   "outputs": [
    {
     "name": "stdout",
     "output_type": "stream",
     "text": [
      "50\n",
      "40\n",
      "30\n",
      "20\n",
      "10\n"
     ]
    }
   ],
   "source": [
    "#3\n",
    "\n",
    "my_list = [10, 20, 30, 40, 50]\n",
    "for i in range(len(my_list)-1, -1, -1):\n",
    "    print(my_list[i])\n"
   ]
  },
  {
   "cell_type": "code",
   "execution_count": null,
   "id": "906118f7-7339-4236-afae-4eab60ba03dd",
   "metadata": {},
   "outputs": [],
   "source": [
    "#Question 3\n"
   ]
  },
  {
   "cell_type": "code",
   "execution_count": 7,
   "id": "5750870e-468d-40a7-aa7e-52bf4dc28ca0",
   "metadata": {
    "tags": []
   },
   "outputs": [
    {
     "name": "stdin",
     "output_type": "stream",
     "text": [
      "Enter a string:  1 4 6 3 8 9\n"
     ]
    },
    {
     "name": "stdout",
     "output_type": "stream",
     "text": [
      "The mixed string is **6 3 **.\n"
     ]
    }
   ],
   "source": [
    "#1\n",
    "\n",
    "string = input(\"Enter a string: \")\n",
    "length = len(string)\n",
    "middle = length // 2\n",
    "if length % 2 == 0:\n",
    "    middle -= 1\n",
    "mixed_string = string[middle-1:middle+3]\n",
    "print(f\"The mixed string is **{mixed_string}**.\")\n",
    "\n"
   ]
  },
  {
   "cell_type": "code",
   "execution_count": 8,
   "id": "eb7a81cd-175b-4024-b7da-88b1fe58fb54",
   "metadata": {
    "tags": []
   },
   "outputs": [
    {
     "name": "stdin",
     "output_type": "stream",
     "text": [
      "Enter the first string (s1):  2 4 6 8\n",
      "Enter the second string (s2):  3 5 7 9\n"
     ]
    },
    {
     "name": "stdout",
     "output_type": "stream",
     "text": [
      "Mixed String (s3): 2 43 5 7 9 6 8\n"
     ]
    }
   ],
   "source": [
    "#2\n",
    "\n",
    "def mix_strings(s1, s2):\n",
    "    middle_index = len(s1) // 2\n",
    "    s3 = s1[:middle_index] + s2 + s1[middle_index:]\n",
    "    return s3\n",
    "\n",
    "s1 = input(\"Enter the first string (s1): \")\n",
    "s2 = input(\"Enter the second string (s2): \")\n",
    "\n",
    "mixed_string = mix_strings(s1, s2)\n",
    "print(\"Mixed String (s3):\", mixed_string)"
   ]
  },
  {
   "cell_type": "code",
   "execution_count": 9,
   "id": "3cdd7c7b-f2fd-44f6-aeee-2cfa9010beb8",
   "metadata": {
    "tags": []
   },
   "outputs": [
    {
     "name": "stdin",
     "output_type": "stream",
     "text": [
      "Enter the first string (s1):  1 2 4 8 \n",
      "Enter the second string (s2):  3 5 6 7 9\n"
     ]
    },
    {
     "name": "stdout",
     "output_type": "stream",
     "text": [
      "Mixed String: 14 369\n"
     ]
    }
   ],
   "source": [
    "#3\n",
    "\n",
    "def mix_strings(s1, s2):\n",
    "    def get_middle_char(s):\n",
    "        middle_index = len(s) // 2\n",
    "        return s[middle_index]\n",
    "\n",
    "    mixed_string = s1[0] + get_middle_char(s1) + s1[-1] + s2[0] + get_middle_char(s2) + s2[-1]\n",
    "\n",
    "    return mixed_string\n",
    "\n",
    "s1 = input(\"Enter the first string (s1): \")\n",
    "s2 = input(\"Enter the second string (s2): \")\n",
    "\n",
    "mixed_string = mix_strings(s1, s2)\n",
    "print(\"Mixed String:\", mixed_string)\n"
   ]
  },
  {
   "cell_type": "code",
   "execution_count": 11,
   "id": "7f89f2ae-e1b6-4a1c-a314-c2a7896e9500",
   "metadata": {
    "tags": []
   },
   "outputs": [
    {
     "name": "stdin",
     "output_type": "stream",
     "text": [
      "Enter the first string (s1):  FPT University\n",
      "Enter the second string (s2):  is the BEST\n"
     ]
    },
    {
     "name": "stdout",
     "output_type": "stream",
     "text": [
      "Mixed String:    BeeEFhiiinPrssSttTTUvy\n"
     ]
    }
   ],
   "source": [
    "#4\n",
    "\n",
    "def mix_strings(s1, s2):\n",
    "    mixed_string = ''.join(sorted(s1 + s2, key=lambda x: (x.lower(), x.isupper())))\n",
    "    return mixed_string\n",
    "\n",
    "s1 = input(\"Enter the first string (s1): \")\n",
    "s2 = input(\"Enter the second string (s2): \")\n",
    "\n",
    "mixed_string = mix_strings(s1, s2)\n",
    "print(\"Mixed String:\", mixed_string)\n"
   ]
  },
  {
   "cell_type": "code",
   "execution_count": 12,
   "id": "95abab35-dc7d-4543-9828-0e1a5d0af37c",
   "metadata": {
    "tags": []
   },
   "outputs": [
    {
     "name": "stdin",
     "output_type": "stream",
     "text": [
      "Enter a string:  P@^$90yr7iREuo32yeu32!@4@%#63748\n"
     ]
    },
    {
     "name": "stdout",
     "output_type": "stream",
     "text": [
      "Letter count: 11\n",
      "Digit count: 13\n",
      "Special symbol count: 8\n"
     ]
    }
   ],
   "source": [
    "#5\n",
    "\n",
    "def count_characters(s):\n",
    "    # Initialize counts\n",
    "    letter_count = 0\n",
    "    digit_count = 0\n",
    "    special_count = 0\n",
    "\n",
    "    for char in s:\n",
    "        if char.isalpha():\n",
    "            letter_count += 1\n",
    "        elif char.isdigit():\n",
    "            digit_count += 1\n",
    "        else:\n",
    "            special_count += 1\n",
    "\n",
    "    return letter_count, digit_count, special_count\n",
    "\n",
    "input_string = input(\"Enter a string: \")\n",
    "\n",
    "letters, digits, special_symbols = count_characters(input_string)\n",
    "\n",
    "print(\"Letter count:\", letters)\n",
    "print(\"Digit count:\", digits)\n",
    "print(\"Special symbol count:\", special_symbols)\n"
   ]
  },
  {
   "cell_type": "code",
   "execution_count": null,
   "id": "9f9b23bd-0adf-4ccb-a669-6680d8809ec1",
   "metadata": {},
   "outputs": [],
   "source": [
    "#Question 4\n"
   ]
  },
  {
   "cell_type": "code",
   "execution_count": 13,
   "id": "fee1180d-5e42-4527-8659-ef7f919fb6da",
   "metadata": {
    "tags": []
   },
   "outputs": [
    {
     "name": "stdin",
     "output_type": "stream",
     "text": [
      "Enter a string:  I am 20 years old this years, it means I was born in 2004\n"
     ]
    },
    {
     "name": "stdout",
     "output_type": "stream",
     "text": [
      "String with only integers: 202004\n"
     ]
    }
   ],
   "source": [
    "#1\n",
    "\n",
    "def remove_non_digits(input_string):\n",
    "    # Use a list comprehension to keep only digits\n",
    "    digits_only = ''.join(char for char in input_string if char.isdigit())\n",
    "    return digits_only\n",
    "\n",
    "# Example usage\n",
    "input_string = input(\"Enter a string: \")\n",
    "\n",
    "result = remove_non_digits(input_string)\n",
    "\n",
    "print(\"String with only integers:\", result)\n"
   ]
  },
  {
   "cell_type": "code",
   "execution_count": 14,
   "id": "b8711c1c-b3f1-4548-b651-405a7b55a0ad",
   "metadata": {
    "tags": []
   },
   "outputs": [
    {
     "name": "stdin",
     "output_type": "stream",
     "text": [
      "Enter a string:  #&#@%Untouchable31834\n"
     ]
    },
    {
     "name": "stdout",
     "output_type": "stream",
     "text": [
      "String without special symbols: Untouchable31834\n"
     ]
    }
   ],
   "source": [
    "#2\n",
    "\n",
    "import string\n",
    "\n",
    "def remove_special_symbols(input_string):\n",
    "    result = input_string.translate(str.maketrans('', '', string.punctuation))\n",
    "    return result\n",
    "\n",
    "input_string = input(\"Enter a string: \")\n",
    "\n",
    "result = remove_special_symbols(input_string)\n",
    "\n",
    "print(\"String without special symbols:\", result)\n"
   ]
  },
  {
   "cell_type": "code",
   "execution_count": 15,
   "id": "6be41597-7304-4400-8b41-fd6a1450adb9",
   "metadata": {
    "tags": []
   },
   "outputs": [
    {
     "name": "stdout",
     "output_type": "stream",
     "text": [
      "List without empty strings: ['apple', 'banana', 'orange']\n"
     ]
    }
   ],
   "source": [
    "#3\n",
    "\n",
    "def remove_empty_strings(input_list):\n",
    "    result_list = [s for s in input_list if s.strip()]\n",
    "    return result_list\n",
    "\n",
    "input_list = [\"apple\", \"\", \"banana\", \"  \", \"orange\", \"\"]\n",
    "\n",
    "filtered_list = remove_empty_strings(input_list)\n",
    "\n",
    "print(\"List without empty strings:\", filtered_list)\n"
   ]
  },
  {
   "cell_type": "code",
   "execution_count": null,
   "id": "113395ed-3643-4666-90ec-ed99c438af81",
   "metadata": {},
   "outputs": [],
   "source": [
    "#4\n",
    "\n",
    "def split_on_hyphens(input_string):\n",
    "    result_list = input_string.split('-')\n",
    "    return result_list\n",
    "\n",
    "# Example usage\n",
    "input_string = input(\"Enter a hyphen-separated string: \")\n",
    "\n",
    "splitted_list = split_on_hyphens(input_string)\n",
    "\n",
    "print(\"List after splitting on hyphens:\", splitted_list)\n"
   ]
  }
 ],
 "metadata": {
  "kernelspec": {
   "display_name": "Python 3 (ipykernel)",
   "language": "python",
   "name": "python3"
  },
  "language_info": {
   "codemirror_mode": {
    "name": "ipython",
    "version": 3
   },
   "file_extension": ".py",
   "mimetype": "text/x-python",
   "name": "python",
   "nbconvert_exporter": "python",
   "pygments_lexer": "ipython3",
   "version": "3.11.5"
  }
 },
 "nbformat": 4,
 "nbformat_minor": 5
}
