{
 "cells": [
  {
   "cell_type": "code",
   "execution_count": null,
   "id": "6d722236-dbf1-48a8-b2a6-14e944a6e936",
   "metadata": {},
   "outputs": [],
   "source": [
    "#Question 3:\n"
   ]
  },
  {
   "cell_type": "code",
   "execution_count": 4,
   "id": "bdb43e0c-6876-4680-963a-09459c45b68c",
   "metadata": {
    "tags": []
   },
   "outputs": [
    {
     "name": "stdin",
     "output_type": "stream",
     "text": [
      "Enter the first number:  2\n",
      "Enter the second number:  3\n"
     ]
    },
    {
     "name": "stdout",
     "output_type": "stream",
     "text": [
      "The product of 2.0 and 3.0 is 6.0.\n",
      "The sum of 2.0 and 3.0 is 5.0.\n"
     ]
    }
   ],
   "source": [
    "#1\n",
    "\n",
    "def multiply_and_sum(num1, num2):\n",
    "    product = num1 * num2\n",
    "    summation = num1 + num2\n",
    "    return product, summation\n",
    "\n",
    "num1 = float(input(\"Enter the first number: \"))\n",
    "num2 = float(input(\"Enter the second number: \"))\n",
    "\n",
    "product, summation = multiply_and_sum(num1, num2)\n",
    "\n",
    "print(f\"The product of {num1} and {num2} is {product}.\")\n",
    "print(f\"The sum of {num1} and {num2} is {summation}.\")\n",
    "\n"
   ]
  },
  {
   "cell_type": "code",
   "execution_count": 5,
   "id": "225d6cbd-8714-4396-8dfd-667c1486f20c",
   "metadata": {
    "tags": []
   },
   "outputs": [
    {
     "name": "stdout",
     "output_type": "stream",
     "text": [
      "5\n",
      "15\n",
      "25\n",
      "35\n",
      "45\n",
      "55\n",
      "60\n"
     ]
    }
   ],
   "source": [
    "#2\n",
    "\n",
    "numbers = [5, 10, 15, 20, 25, 30, 30]\n",
    "\n",
    "for i in range(len(numbers)):\n",
    "    if i == 0:\n",
    "        print(numbers[i])\n",
    "    else:\n",
    "        print(numbers[i - 1] + numbers[i])\n",
    "\n"
   ]
  },
  {
   "cell_type": "code",
   "execution_count": null,
   "id": "aa79ab5b-f784-4955-888d-5420e14535e7",
   "metadata": {},
   "outputs": [],
   "source": [
    "#Question 4:\n"
   ]
  },
  {
   "cell_type": "code",
   "execution_count": 6,
   "id": "95c448b1-1f67-4ea1-b6ae-d934582b4034",
   "metadata": {
    "tags": []
   },
   "outputs": [
    {
     "name": "stdin",
     "output_type": "stream",
     "text": [
      "Enter a decimal number:  8\n"
     ]
    },
    {
     "name": "stdout",
     "output_type": "stream",
     "text": [
      "The octal equivalent of 8 is 0o10.\n"
     ]
    }
   ],
   "source": [
    "#1\n",
    "\n",
    "num = int(input(\"Enter a decimal number: \"))\n",
    "print(f\"The octal equivalent of {num} is {oct(num)}.\")\n"
   ]
  },
  {
   "cell_type": "code",
   "execution_count": 7,
   "id": "272602ab-b842-4076-98a3-b665a550db98",
   "metadata": {
    "tags": []
   },
   "outputs": [
    {
     "name": "stdout",
     "output_type": "stream",
     "text": [
      "The number is 3.14.\n"
     ]
    }
   ],
   "source": [
    "#2\n",
    "\n",
    "num = 3.14159\n",
    "print(f\"The number is {num:.2f}.\")\n"
   ]
  },
  {
   "cell_type": "code",
   "execution_count": null,
   "id": "5425e1b5-ba12-4273-b2d4-5562c0330862",
   "metadata": {},
   "outputs": [],
   "source": []
  }
 ],
 "metadata": {
  "kernelspec": {
   "display_name": "Python 3 (ipykernel)",
   "language": "python",
   "name": "python3"
  },
  "language_info": {
   "codemirror_mode": {
    "name": "ipython",
    "version": 3
   },
   "file_extension": ".py",
   "mimetype": "text/x-python",
   "name": "python",
   "nbconvert_exporter": "python",
   "pygments_lexer": "ipython3",
   "version": "3.11.5"
  }
 },
 "nbformat": 4,
 "nbformat_minor": 5
}
