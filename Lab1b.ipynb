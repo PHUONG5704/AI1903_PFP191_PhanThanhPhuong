{
 "cells": [
  {
   "cell_type": "code",
   "execution_count": null,
   "id": "9e72545a-36a2-4dd9-9f3a-89b591422916",
   "metadata": {},
   "outputs": [],
   "source": [
    "#Question 3:\n"
   ]
  },
  {
   "cell_type": "code",
   "execution_count": 1,
   "id": "0c3b7dff-422a-46e1-aa02-636c69c97edc",
   "metadata": {},
   "outputs": [
    {
     "name": "stdin",
     "output_type": "stream",
     "text": [
      "Enter the value of a:  1\n",
      "Enter the value of b:  2\n",
      "Enter the value of c:  3\n",
      "Enter the value of x:  4\n"
     ]
    }
   ],
   "source": [
    "#1\n",
    "\n",
    "a = float(input(\"Enter the value of a: \"))\n",
    "b = float(input(\"Enter the value of b: \"))\n",
    "c = float(input(\"Enter the value of c: \"))\n",
    "x = float(input(\"Enter the value of x: \"))\n",
    "\n"
   ]
  },
  {
   "cell_type": "code",
   "execution_count": 2,
   "id": "12f0ca35-2f2d-49dc-b374-fc5cc2095377",
   "metadata": {
    "tags": []
   },
   "outputs": [
    {
     "name": "stdin",
     "output_type": "stream",
     "text": [
      "Enter the value of a:  2\n",
      "Enter the value of b:  4\n",
      "Enter the value of c:  6\n",
      "Enter the value of x:  8\n"
     ]
    },
    {
     "name": "stdout",
     "output_type": "stream",
     "text": [
      "The value of S1 is 166.0.\n"
     ]
    }
   ],
   "source": [
    "#2\n",
    "\n",
    "a = float(input(\"Enter the value of a: \"))\n",
    "b = float(input(\"Enter the value of b: \"))\n",
    "c = float(input(\"Enter the value of c: \"))\n",
    "x = float(input(\"Enter the value of x: \"))\n",
    "\n",
    "S1 = a * x ** 2 + b * x + c\n",
    "\n",
    "print(f\"The value of S1 is {S1}.\")\n"
   ]
  },
  {
   "cell_type": "code",
   "execution_count": 3,
   "id": "0a106b92-56d0-4136-b2f6-8f6e16a4e194",
   "metadata": {
    "tags": []
   },
   "outputs": [
    {
     "name": "stdin",
     "output_type": "stream",
     "text": [
      "Enter the value of a:  1\n",
      "Enter the value of b:  2\n",
      "Enter the value of c:  3\n"
     ]
    },
    {
     "name": "stdout",
     "output_type": "stream",
     "text": [
      "These values cannot form a triangle.\n"
     ]
    }
   ],
   "source": [
    "#4\n",
    "\n",
    "a = float(input(\"Enter the value of a: \"))\n",
    "b = float(input(\"Enter the value of b: \"))\n",
    "c = float(input(\"Enter the value of c: \"))\n",
    "\n",
    "if a + b > c and a + c > b and b + c > a:\n",
    "    print(\"These values can form a triangle.\")\n",
    "else:\n",
    "    print(\"These values cannot form a triangle.\")\n"
   ]
  },
  {
   "cell_type": "code",
   "execution_count": 4,
   "id": "f0e64800-2f5b-4a3a-a44a-2cf2ddd52f2d",
   "metadata": {
    "tags": []
   },
   "outputs": [
    {
     "name": "stdin",
     "output_type": "stream",
     "text": [
      "Enter the value of a:  2\n",
      "Enter the value of b:  1\n",
      "Enter the value of c:  0\n"
     ]
    },
    {
     "name": "stdout",
     "output_type": "stream",
     "text": [
      "The value of S2 is 1.0.\n"
     ]
    }
   ],
   "source": [
    "#3\n",
    "\n",
    "import math\n",
    "\n",
    "a = float(input(\"Enter the value of a: \"))\n",
    "b = float(input(\"Enter the value of b: \"))\n",
    "c = float(input(\"Enter the value of c: \"))\n",
    "\n",
    "if b ** 2 - 4 * a * c >= 0:\n",
    "    S2 = math.sqrt(b ** 2 - 4 * a * c)\n",
    "else:\n",
    "    S2 = 0\n",
    "\n",
    "print(f\"The value of S2 is {S2}.\")\n",
    "\n"
   ]
  },
  {
   "cell_type": "code",
   "execution_count": null,
   "id": "fd53943f-a955-4333-b1ec-a256f3b91995",
   "metadata": {},
   "outputs": [],
   "source": [
    "#Question 4:\n"
   ]
  },
  {
   "cell_type": "code",
   "execution_count": 6,
   "id": "b898330a-1bee-4787-9586-8c18356ba1cf",
   "metadata": {
    "tags": []
   },
   "outputs": [
    {
     "name": "stdin",
     "output_type": "stream",
     "text": [
      "Enter the value of a:  1\n",
      "Enter the value of b:  2\n",
      "Enter the value of c:  3\n"
     ]
    },
    {
     "name": "stdout",
     "output_type": "stream",
     "text": [
      "The maximum value is 3.00.\n",
      "The minimum value is 1.00.\n",
      "The numbers in ascending order are 1.00, 2.00, and 3.00.\n"
     ]
    }
   ],
   "source": [
    "a = float(input(\"Enter the value of a: \"))\n",
    "b = float(input(\"Enter the value of b: \"))\n",
    "c = float(input(\"Enter the value of c: \"))\n",
    "\n",
    "#1\n",
    "\n",
    "max_val = max(a, b, c)\n",
    "min_val = min(a, b, c)\n",
    "\n",
    "print(f\"The maximum value is {max_val:.2f}.\")\n",
    "print(f\"The minimum value is {min_val:.2f}.\")\n",
    "\n",
    "\n",
    "#2\n",
    "\n",
    "if a > b:\n",
    "    a, b = b, a\n",
    "if b > c:\n",
    "    b, c = c, b\n",
    "if a > b:\n",
    "    a, b = b, a\n",
    "\n",
    "print(f\"The numbers in ascending order are {a:.2f}, {b:.2f}, and {c:.2f}.\")\n",
    "\n"
   ]
  },
  {
   "cell_type": "code",
   "execution_count": null,
   "id": "222dea03-e3e1-42d0-b04c-a0846c137579",
   "metadata": {},
   "outputs": [],
   "source": [
    "\n",
    "\n"
   ]
  }
 ],
 "metadata": {
  "kernelspec": {
   "display_name": "Python 3 (ipykernel)",
   "language": "python",
   "name": "python3"
  },
  "language_info": {
   "codemirror_mode": {
    "name": "ipython",
    "version": 3
   },
   "file_extension": ".py",
   "mimetype": "text/x-python",
   "name": "python",
   "nbconvert_exporter": "python",
   "pygments_lexer": "ipython3",
   "version": "3.11.5"
  }
 },
 "nbformat": 4,
 "nbformat_minor": 5
}
